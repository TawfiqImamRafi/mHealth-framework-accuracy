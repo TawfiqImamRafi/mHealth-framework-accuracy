{
  "nbformat": 4,
  "nbformat_minor": 0,
  "metadata": {
    "kernelspec": {
      "display_name": "Python 3",
      "language": "python",
      "name": "python3"
    },
    "language_info": {
      "codemirror_mode": {
        "name": "ipython",
        "version": 3
      },
      "file_extension": ".py",
      "mimetype": "text/x-python",
      "name": "python",
      "nbconvert_exporter": "python",
      "pygments_lexer": "ipython3",
      "version": "3.7.4"
    },
    "colab": {
      "name": "mhealth framework Impurity_Accuracy.ipynb",
      "provenance": [],
      "collapsed_sections": [],
      "include_colab_link": true
    }
  },
  "cells": [
    {
      "cell_type": "markdown",
      "metadata": {
        "id": "view-in-github",
        "colab_type": "text"
      },
      "source": [
        "<a href=\"https://colab.research.google.com/github/TawfiqImamRafi/mHealth-framework-accuracy/blob/main/mhealth_framework_Impurity_Accuracy.ipynb\" target=\"_parent\"><img src=\"https://colab.research.google.com/assets/colab-badge.svg\" alt=\"Open In Colab\"/></a>"
      ]
    },
    {
      "cell_type": "code",
      "metadata": {
        "id": "_Xgun5WHAyDS"
      },
      "source": [
        "import warnings\n",
        "warnings.filterwarnings(\"ignore\")\n",
        "import pandas as pd\n",
        "import numpy as np\n",
        "import io\n",
        "import requests\n",
        "import seaborn as sns"
      ],
      "execution_count": 13,
      "outputs": []
    },
    {
      "cell_type": "code",
      "metadata": {
        "id": "K6XwW_hzAyDc"
      },
      "source": [
        "df = pd.read_csv('/content/drive/MyDrive/cardio_train.csv')"
      ],
      "execution_count": 14,
      "outputs": []
    },
    {
      "cell_type": "code",
      "metadata": {
        "colab": {
          "base_uri": "https://localhost:8080/"
        },
        "id": "7MRWaHLVC5f4",
        "outputId": "c9b89b56-a55d-4301-d5d7-3714cf550f45"
      },
      "source": [
        "from google.colab import drive\n",
        "drive.mount('/content/drive')"
      ],
      "execution_count": null,
      "outputs": [
        {
          "output_type": "stream",
          "text": [
            "Mounted at /content/drive\n"
          ],
          "name": "stdout"
        }
      ]
    },
    {
      "cell_type": "code",
      "metadata": {
        "colab": {
          "base_uri": "https://localhost:8080/"
        },
        "id": "t7WnmPxVvm-9",
        "outputId": "95235012-599f-4880-a346-63a94c98687f"
      },
      "source": [
        "df.shape"
      ],
      "execution_count": 15,
      "outputs": [
        {
          "output_type": "execute_result",
          "data": {
            "text/plain": [
              "(70000, 13)"
            ]
          },
          "metadata": {
            "tags": []
          },
          "execution_count": 15
        }
      ]
    },
    {
      "cell_type": "markdown",
      "metadata": {
        "id": "JbGyL0-3v3ED"
      },
      "source": [
        "**Checking empty values/null values from our dataset**"
      ]
    },
    {
      "cell_type": "code",
      "metadata": {
        "colab": {
          "base_uri": "https://localhost:8080/"
        },
        "id": "tixnNdk0vt6f",
        "outputId": "f0c3fdb4-563d-4448-fe31-8401078e4b2c"
      },
      "source": [
        "df.isna().sum()"
      ],
      "execution_count": null,
      "outputs": [
        {
          "output_type": "execute_result",
          "data": {
            "text/plain": [
              "id             0\n",
              "age            0\n",
              "gender         0\n",
              "height         0\n",
              "weight         0\n",
              "ap_hi          0\n",
              "ap_lo          0\n",
              "cholesterol    0\n",
              "gluc           0\n",
              "smoke          0\n",
              "alco           0\n",
              "active         0\n",
              "cardio         0\n",
              "years          0\n",
              "dtype: int64"
            ]
          },
          "metadata": {
            "tags": []
          },
          "execution_count": 40
        }
      ]
    },
    {
      "cell_type": "markdown",
      "metadata": {
        "id": "h094V3VGwB6u"
      },
      "source": [
        "**After cleaning the dataset, the following program will show the first severals rows from our loaded dataset**"
      ]
    },
    {
      "cell_type": "code",
      "metadata": {
        "id": "TbgV3txoAyDd",
        "colab": {
          "base_uri": "https://localhost:8080/",
          "height": 195
        },
        "outputId": "c987391a-9016-4d21-e9a6-24e6842d897f"
      },
      "source": [
        "df.head()"
      ],
      "execution_count": null,
      "outputs": [
        {
          "output_type": "execute_result",
          "data": {
            "text/html": [
              "<div>\n",
              "<style scoped>\n",
              "    .dataframe tbody tr th:only-of-type {\n",
              "        vertical-align: middle;\n",
              "    }\n",
              "\n",
              "    .dataframe tbody tr th {\n",
              "        vertical-align: top;\n",
              "    }\n",
              "\n",
              "    .dataframe thead th {\n",
              "        text-align: right;\n",
              "    }\n",
              "</style>\n",
              "<table border=\"1\" class=\"dataframe\">\n",
              "  <thead>\n",
              "    <tr style=\"text-align: right;\">\n",
              "      <th></th>\n",
              "      <th>id</th>\n",
              "      <th>age</th>\n",
              "      <th>gender</th>\n",
              "      <th>height</th>\n",
              "      <th>weight</th>\n",
              "      <th>ap_hi</th>\n",
              "      <th>ap_lo</th>\n",
              "      <th>cholesterol</th>\n",
              "      <th>gluc</th>\n",
              "      <th>smoke</th>\n",
              "      <th>alco</th>\n",
              "      <th>active</th>\n",
              "      <th>cardio</th>\n",
              "    </tr>\n",
              "  </thead>\n",
              "  <tbody>\n",
              "    <tr>\n",
              "      <th>0</th>\n",
              "      <td>0</td>\n",
              "      <td>18393</td>\n",
              "      <td>2</td>\n",
              "      <td>168</td>\n",
              "      <td>62.0</td>\n",
              "      <td>110</td>\n",
              "      <td>80</td>\n",
              "      <td>1</td>\n",
              "      <td>1</td>\n",
              "      <td>0</td>\n",
              "      <td>0</td>\n",
              "      <td>1</td>\n",
              "      <td>0</td>\n",
              "    </tr>\n",
              "    <tr>\n",
              "      <th>1</th>\n",
              "      <td>1</td>\n",
              "      <td>20228</td>\n",
              "      <td>1</td>\n",
              "      <td>156</td>\n",
              "      <td>85.0</td>\n",
              "      <td>140</td>\n",
              "      <td>90</td>\n",
              "      <td>3</td>\n",
              "      <td>1</td>\n",
              "      <td>0</td>\n",
              "      <td>0</td>\n",
              "      <td>1</td>\n",
              "      <td>1</td>\n",
              "    </tr>\n",
              "    <tr>\n",
              "      <th>2</th>\n",
              "      <td>2</td>\n",
              "      <td>18857</td>\n",
              "      <td>1</td>\n",
              "      <td>165</td>\n",
              "      <td>64.0</td>\n",
              "      <td>130</td>\n",
              "      <td>70</td>\n",
              "      <td>3</td>\n",
              "      <td>1</td>\n",
              "      <td>0</td>\n",
              "      <td>0</td>\n",
              "      <td>0</td>\n",
              "      <td>1</td>\n",
              "    </tr>\n",
              "    <tr>\n",
              "      <th>3</th>\n",
              "      <td>3</td>\n",
              "      <td>17623</td>\n",
              "      <td>2</td>\n",
              "      <td>169</td>\n",
              "      <td>82.0</td>\n",
              "      <td>150</td>\n",
              "      <td>100</td>\n",
              "      <td>1</td>\n",
              "      <td>1</td>\n",
              "      <td>0</td>\n",
              "      <td>0</td>\n",
              "      <td>1</td>\n",
              "      <td>1</td>\n",
              "    </tr>\n",
              "    <tr>\n",
              "      <th>4</th>\n",
              "      <td>4</td>\n",
              "      <td>17474</td>\n",
              "      <td>1</td>\n",
              "      <td>156</td>\n",
              "      <td>56.0</td>\n",
              "      <td>100</td>\n",
              "      <td>60</td>\n",
              "      <td>1</td>\n",
              "      <td>1</td>\n",
              "      <td>0</td>\n",
              "      <td>0</td>\n",
              "      <td>0</td>\n",
              "      <td>0</td>\n",
              "    </tr>\n",
              "  </tbody>\n",
              "</table>\n",
              "</div>"
            ],
            "text/plain": [
              "   id    age  gender  height  weight  ...  gluc  smoke  alco  active  cardio\n",
              "0   0  18393       2     168    62.0  ...     1      0     0       1       0\n",
              "1   1  20228       1     156    85.0  ...     1      0     0       1       1\n",
              "2   2  18857       1     165    64.0  ...     1      0     0       0       1\n",
              "3   3  17623       2     169    82.0  ...     1      0     0       1       1\n",
              "4   4  17474       1     156    56.0  ...     1      0     0       0       0\n",
              "\n",
              "[5 rows x 13 columns]"
            ]
          },
          "metadata": {
            "tags": []
          },
          "execution_count": 32
        }
      ]
    },
    {
      "cell_type": "markdown",
      "metadata": {
        "id": "PWJLWjfxvWxB"
      },
      "source": [
        "**Now, Counting on the following dataset of people having cardio vascular disease and not having cardio disease**"
      ]
    },
    {
      "cell_type": "code",
      "metadata": {
        "colab": {
          "base_uri": "https://localhost:8080/"
        },
        "id": "txjLjU73OBpM",
        "outputId": "e26f5793-f5ed-4e7f-dfcb-e76e268dc129"
      },
      "source": [
        "df['cardio'].value_counts()"
      ],
      "execution_count": null,
      "outputs": [
        {
          "output_type": "execute_result",
          "data": {
            "text/plain": [
              "0    35021\n",
              "1    34979\n",
              "Name: cardio, dtype: int64"
            ]
          },
          "metadata": {
            "tags": []
          },
          "execution_count": 33
        }
      ]
    },
    {
      "cell_type": "code",
      "metadata": {
        "colab": {
          "base_uri": "https://localhost:8080/",
          "height": 296
        },
        "id": "lYkhv8STO9TX",
        "outputId": "2c6bc6fa-6361-422a-a436-5b8f160b3ae3"
      },
      "source": [
        "sns.countplot(df['cardio'])"
      ],
      "execution_count": null,
      "outputs": [
        {
          "output_type": "execute_result",
          "data": {
            "text/plain": [
              "<matplotlib.axes._subplots.AxesSubplot at 0x7f934a8ea9e8>"
            ]
          },
          "metadata": {
            "tags": []
          },
          "execution_count": 34
        },
        {
          "output_type": "display_data",
          "data": {
            "image/png": "[encoded data removed]",
            "text/plain": [
              "<Figure size 432x288 with 1 Axes>"
            ]
          },
          "metadata": {
            "tags": [],
            "needs_background": "light"
          }
        }
      ]
    },
    {
      "cell_type": "markdown",
      "metadata": {
        "id": "8DPXhO9AweQu"
      },
      "source": [
        "*So, the dataset we are using is almost balanced with number of patients having a cardio disease and not having it*"
      ]
    },
    {
      "cell_type": "markdown",
      "metadata": {
        "id": "uIcRMANOwT52"
      },
      "source": [
        "**Making a new colomn \"age\" from our dataset that would help us to see people having cardio disease of different ages**"
      ]
    },
    {
      "cell_type": "code",
      "metadata": {
        "colab": {
          "base_uri": "https://localhost:8080/",
          "height": 296
        },
        "id": "QJ6ZcanHf-yq",
        "outputId": "b53c3eaa-dcc7-4754-aced-d188337f85d5"
      },
      "source": [
        "df['years']=(df['age'] / 365).round(0)\r\n",
        "df['years']=pd.to_numeric(df['years'], downcast='integer')\r\n",
        "\r\n",
        "#visualizing the data\r\n",
        "sns.countplot(x='years',hue='cardio',data=df,palette='colorblind' , edgecolor=sns.color_palette('dark',n_colors=1))"
      ],
      "execution_count": null,
      "outputs": [
        {
          "output_type": "execute_result",
          "data": {
            "text/plain": [
              "<matplotlib.axes._subplots.AxesSubplot at 0x7f934a8642e8>"
            ]
          },
          "metadata": {
            "tags": []
          },
          "execution_count": 35
        },
        {
          "output_type": "display_data",
          "data": {
            "image/png": "[encoded data removed]",
            "text/plain": [
              "<Figure size 432x288 with 1 Axes>"
            ]
          },
          "metadata": {
            "tags": [],
            "needs_background": "light"
          }
        }
      ]
    },
    {
      "cell_type": "markdown",
      "metadata": {
        "id": "Et1mhwilwZbZ"
      },
      "source": [
        "*Here, 0 means people not having cardio disease and 1 means people having a cardio disease*"
      ]
    },
    {
      "cell_type": "markdown",
      "metadata": {
        "id": "SVPq87uKvOrD"
      },
      "source": [
        "**The following program will show us the correlations of the colomns of our cardio disease dataset**"
      ]
    },
    {
      "cell_type": "code",
      "metadata": {
        "colab": {
          "base_uri": "https://localhost:8080/",
          "height": 462
        },
        "id": "V3yno3-PgE6N",
        "outputId": "a123e228-db3d-419c-a15c-beb3f696f1a8"
      },
      "source": [
        "df.corr()"
      ],
      "execution_count": null,
      "outputs": [
        {
          "output_type": "execute_result",
          "data": {
            "text/html": [
              "<div>\n",
              "<style scoped>\n",
              "    .dataframe tbody tr th:only-of-type {\n",
              "        vertical-align: middle;\n",
              "    }\n",
              "\n",
              "    .dataframe tbody tr th {\n",
              "        vertical-align: top;\n",
              "    }\n",
              "\n",
              "    .dataframe thead th {\n",
              "        text-align: right;\n",
              "    }\n",
              "</style>\n",
              "<table border=\"1\" class=\"dataframe\">\n",
              "  <thead>\n",
              "    <tr style=\"text-align: right;\">\n",
              "      <th></th>\n",
              "      <th>id</th>\n",
              "      <th>age</th>\n",
              "      <th>gender</th>\n",
              "      <th>height</th>\n",
              "      <th>weight</th>\n",
              "      <th>ap_hi</th>\n",
              "      <th>ap_lo</th>\n",
              "      <th>cholesterol</th>\n",
              "      <th>gluc</th>\n",
              "      <th>smoke</th>\n",
              "      <th>alco</th>\n",
              "      <th>active</th>\n",
              "      <th>cardio</th>\n",
              "      <th>years</th>\n",
              "    </tr>\n",
              "  </thead>\n",
              "  <tbody>\n",
              "    <tr>\n",
              "      <th>id</th>\n",
              "      <td>1.000000</td>\n",
              "      <td>0.002970</td>\n",
              "      <td>0.003502</td>\n",
              "      <td>-0.003038</td>\n",
              "      <td>-0.001830</td>\n",
              "      <td>0.003356</td>\n",
              "      <td>-0.002529</td>\n",
              "      <td>0.006106</td>\n",
              "      <td>0.002467</td>\n",
              "      <td>-0.003699</td>\n",
              "      <td>0.001210</td>\n",
              "      <td>0.003755</td>\n",
              "      <td>0.003799</td>\n",
              "      <td>0.002566</td>\n",
              "    </tr>\n",
              "    <tr>\n",
              "      <th>age</th>\n",
              "      <td>0.002970</td>\n",
              "      <td>1.000000</td>\n",
              "      <td>-0.022776</td>\n",
              "      <td>-0.080905</td>\n",
              "      <td>0.053367</td>\n",
              "      <td>0.020649</td>\n",
              "      <td>0.017526</td>\n",
              "      <td>0.153701</td>\n",
              "      <td>0.098209</td>\n",
              "      <td>-0.047712</td>\n",
              "      <td>-0.029800</td>\n",
              "      <td>-0.009590</td>\n",
              "      <td>0.236939</td>\n",
              "      <td>0.999094</td>\n",
              "    </tr>\n",
              "    <tr>\n",
              "      <th>gender</th>\n",
              "      <td>0.003502</td>\n",
              "      <td>-0.022776</td>\n",
              "      <td>1.000000</td>\n",
              "      <td>0.499033</td>\n",
              "      <td>0.155406</td>\n",
              "      <td>0.006005</td>\n",
              "      <td>0.015254</td>\n",
              "      <td>-0.035821</td>\n",
              "      <td>-0.020491</td>\n",
              "      <td>0.338135</td>\n",
              "      <td>0.170966</td>\n",
              "      <td>0.005866</td>\n",
              "      <td>0.008109</td>\n",
              "      <td>-0.022982</td>\n",
              "    </tr>\n",
              "    <tr>\n",
              "      <th>height</th>\n",
              "      <td>-0.003038</td>\n",
              "      <td>-0.080905</td>\n",
              "      <td>0.499033</td>\n",
              "      <td>1.000000</td>\n",
              "      <td>0.290968</td>\n",
              "      <td>0.005488</td>\n",
              "      <td>0.006150</td>\n",
              "      <td>-0.050226</td>\n",
              "      <td>-0.018595</td>\n",
              "      <td>0.187989</td>\n",
              "      <td>0.094419</td>\n",
              "      <td>-0.006570</td>\n",
              "      <td>-0.010821</td>\n",
              "      <td>-0.080845</td>\n",
              "    </tr>\n",
              "    <tr>\n",
              "      <th>weight</th>\n",
              "      <td>-0.001830</td>\n",
              "      <td>0.053367</td>\n",
              "      <td>0.155406</td>\n",
              "      <td>0.290968</td>\n",
              "      <td>1.000000</td>\n",
              "      <td>0.030702</td>\n",
              "      <td>0.043710</td>\n",
              "      <td>0.141768</td>\n",
              "      <td>0.106857</td>\n",
              "      <td>0.067780</td>\n",
              "      <td>0.067113</td>\n",
              "      <td>-0.016867</td>\n",
              "      <td>0.181660</td>\n",
              "      <td>0.053343</td>\n",
              "    </tr>\n",
              "    <tr>\n",
              "      <th>ap_hi</th>\n",
              "      <td>0.003356</td>\n",
              "      <td>0.020649</td>\n",
              "      <td>0.006005</td>\n",
              "      <td>0.005488</td>\n",
              "      <td>0.030702</td>\n",
              "      <td>1.000000</td>\n",
              "      <td>0.016086</td>\n",
              "      <td>0.023778</td>\n",
              "      <td>0.011841</td>\n",
              "      <td>-0.000922</td>\n",
              "      <td>0.001408</td>\n",
              "      <td>-0.000033</td>\n",
              "      <td>0.054475</td>\n",
              "      <td>0.020678</td>\n",
              "    </tr>\n",
              "    <tr>\n",
              "      <th>ap_lo</th>\n",
              "      <td>-0.002529</td>\n",
              "      <td>0.017526</td>\n",
              "      <td>0.015254</td>\n",
              "      <td>0.006150</td>\n",
              "      <td>0.043710</td>\n",
              "      <td>0.016086</td>\n",
              "      <td>1.000000</td>\n",
              "      <td>0.024019</td>\n",
              "      <td>0.010806</td>\n",
              "      <td>0.005186</td>\n",
              "      <td>0.010601</td>\n",
              "      <td>0.004780</td>\n",
              "      <td>0.065719</td>\n",
              "      <td>0.017632</td>\n",
              "    </tr>\n",
              "    <tr>\n",
              "      <th>cholesterol</th>\n",
              "      <td>0.006106</td>\n",
              "      <td>0.153701</td>\n",
              "      <td>-0.035821</td>\n",
              "      <td>-0.050226</td>\n",
              "      <td>0.141768</td>\n",
              "      <td>0.023778</td>\n",
              "      <td>0.024019</td>\n",
              "      <td>1.000000</td>\n",
              "      <td>0.451578</td>\n",
              "      <td>0.010354</td>\n",
              "      <td>0.035760</td>\n",
              "      <td>0.009911</td>\n",
              "      <td>0.221147</td>\n",
              "      <td>0.153661</td>\n",
              "    </tr>\n",
              "    <tr>\n",
              "      <th>gluc</th>\n",
              "      <td>0.002467</td>\n",
              "      <td>0.098209</td>\n",
              "      <td>-0.020491</td>\n",
              "      <td>-0.018595</td>\n",
              "      <td>0.106857</td>\n",
              "      <td>0.011841</td>\n",
              "      <td>0.010806</td>\n",
              "      <td>0.451578</td>\n",
              "      <td>1.000000</td>\n",
              "      <td>-0.004756</td>\n",
              "      <td>0.011246</td>\n",
              "      <td>-0.006770</td>\n",
              "      <td>0.089307</td>\n",
              "      <td>0.098101</td>\n",
              "    </tr>\n",
              "    <tr>\n",
              "      <th>smoke</th>\n",
              "      <td>-0.003699</td>\n",
              "      <td>-0.047712</td>\n",
              "      <td>0.338135</td>\n",
              "      <td>0.187989</td>\n",
              "      <td>0.067780</td>\n",
              "      <td>-0.000922</td>\n",
              "      <td>0.005186</td>\n",
              "      <td>0.010354</td>\n",
              "      <td>-0.004756</td>\n",
              "      <td>1.000000</td>\n",
              "      <td>0.340094</td>\n",
              "      <td>0.025858</td>\n",
              "      <td>-0.015486</td>\n",
              "      <td>-0.047962</td>\n",
              "    </tr>\n",
              "    <tr>\n",
              "      <th>alco</th>\n",
              "      <td>0.001210</td>\n",
              "      <td>-0.029800</td>\n",
              "      <td>0.170966</td>\n",
              "      <td>0.094419</td>\n",
              "      <td>0.067113</td>\n",
              "      <td>0.001408</td>\n",
              "      <td>0.010601</td>\n",
              "      <td>0.035760</td>\n",
              "      <td>0.011246</td>\n",
              "      <td>0.340094</td>\n",
              "      <td>1.000000</td>\n",
              "      <td>0.025476</td>\n",
              "      <td>-0.007330</td>\n",
              "      <td>-0.029994</td>\n",
              "    </tr>\n",
              "    <tr>\n",
              "      <th>active</th>\n",
              "      <td>0.003755</td>\n",
              "      <td>-0.009590</td>\n",
              "      <td>0.005866</td>\n",
              "      <td>-0.006570</td>\n",
              "      <td>-0.016867</td>\n",
              "      <td>-0.000033</td>\n",
              "      <td>0.004780</td>\n",
              "      <td>0.009911</td>\n",
              "      <td>-0.006770</td>\n",
              "      <td>0.025858</td>\n",
              "      <td>0.025476</td>\n",
              "      <td>1.000000</td>\n",
              "      <td>-0.035653</td>\n",
              "      <td>-0.009482</td>\n",
              "    </tr>\n",
              "    <tr>\n",
              "      <th>cardio</th>\n",
              "      <td>0.003799</td>\n",
              "      <td>0.236939</td>\n",
              "      <td>0.008109</td>\n",
              "      <td>-0.010821</td>\n",
              "      <td>0.181660</td>\n",
              "      <td>0.054475</td>\n",
              "      <td>0.065719</td>\n",
              "      <td>0.221147</td>\n",
              "      <td>0.089307</td>\n",
              "      <td>-0.015486</td>\n",
              "      <td>-0.007330</td>\n",
              "      <td>-0.035653</td>\n",
              "      <td>1.000000</td>\n",
              "      <td>0.236526</td>\n",
              "    </tr>\n",
              "    <tr>\n",
              "      <th>years</th>\n",
              "      <td>0.002566</td>\n",
              "      <td>0.999094</td>\n",
              "      <td>-0.022982</td>\n",
              "      <td>-0.080845</td>\n",
              "      <td>0.053343</td>\n",
              "      <td>0.020678</td>\n",
              "      <td>0.017632</td>\n",
              "      <td>0.153661</td>\n",
              "      <td>0.098101</td>\n",
              "      <td>-0.047962</td>\n",
              "      <td>-0.029994</td>\n",
              "      <td>-0.009482</td>\n",
              "      <td>0.236526</td>\n",
              "      <td>1.000000</td>\n",
              "    </tr>\n",
              "  </tbody>\n",
              "</table>\n",
              "</div>"
            ],
            "text/plain": [
              "                   id       age    gender  ...    active    cardio     years\n",
              "id           1.000000  0.002970  0.003502  ...  0.003755  0.003799  0.002566\n",
              "age          0.002970  1.000000 -0.022776  ... -0.009590  0.236939  0.999094\n",
              "gender       0.003502 -0.022776  1.000000  ...  0.005866  0.008109 -0.022982\n",
              "height      -0.003038 -0.080905  0.499033  ... -0.006570 -0.010821 -0.080845\n",
              "weight      -0.001830  0.053367  0.155406  ... -0.016867  0.181660  0.053343\n",
              "ap_hi        0.003356  0.020649  0.006005  ... -0.000033  0.054475  0.020678\n",
              "ap_lo       -0.002529  0.017526  0.015254  ...  0.004780  0.065719  0.017632\n",
              "cholesterol  0.006106  0.153701 -0.035821  ...  0.009911  0.221147  0.153661\n",
              "gluc         0.002467  0.098209 -0.020491  ... -0.006770  0.089307  0.098101\n",
              "smoke       -0.003699 -0.047712  0.338135  ...  0.025858 -0.015486 -0.047962\n",
              "alco         0.001210 -0.029800  0.170966  ...  0.025476 -0.007330 -0.029994\n",
              "active       0.003755 -0.009590  0.005866  ...  1.000000 -0.035653 -0.009482\n",
              "cardio       0.003799  0.236939  0.008109  ... -0.035653  1.000000  0.236526\n",
              "years        0.002566  0.999094 -0.022982  ... -0.009482  0.236526  1.000000\n",
              "\n",
              "[14 rows x 14 columns]"
            ]
          },
          "metadata": {
            "tags": []
          },
          "execution_count": 36
        }
      ]
    },
    {
      "cell_type": "code",
      "metadata": {
        "colab": {
          "base_uri": "https://localhost:8080/",
          "height": 603
        },
        "id": "WPwxbSjggN4y",
        "outputId": "4e276875-60f2-4164-a29c-b23670600e56"
      },
      "source": [
        "import matplotlib.pyplot as plt\r\n",
        "plt.figure(figsize=(9,9))\r\n",
        "sns.heatmap(df.corr(), annot=True, fmt=' .0%')"
      ],
      "execution_count": null,
      "outputs": [
        {
          "output_type": "execute_result",
          "data": {
            "text/plain": [
              "<matplotlib.axes._subplots.AxesSubplot at 0x7f934a840860>"
            ]
          },
          "metadata": {
            "tags": []
          },
          "execution_count": 37
        },
        {
          "output_type": "display_data",
          "data": {
            "image/png": "[encoded data removed]",
            "text/plain": [
              "<Figure size 648x648 with 2 Axes>"
            ]
          },
          "metadata": {
            "tags": [],
            "needs_background": "light"
          }
        }
      ]
    },
    {
      "cell_type": "code",
      "metadata": {
        "id": "TAaqcZWRAyDf",
        "colab": {
          "base_uri": "https://localhost:8080/"
        },
        "outputId": "bbac05b3-4a86-4e02-9d7e-98aa9e136456"
      },
      "source": [
        "def compute_impurity(feature, impurity_criterion):\n",
        "    \"\"\"\n",
        "    This function calculates impurity of a feature.\n",
        "    Supported impurity criteria: 'entropy', 'gini'\n",
        "    input: feature (this needs to be a Pandas series)\n",
        "    output: feature impurity\n",
        "    \"\"\"\n",
        "    probs = feature.value_counts(normalize=True)\n",
        "    \n",
        "    if impurity_criterion == 'entropy':\n",
        "        impurity = -1 * np.sum(np.log2(probs) * probs)\n",
        "    elif impurity_criterion == 'gini':\n",
        "        impurity = 1 - np.sum(np.square(probs))\n",
        "    else:\n",
        "        raise ValueError('Unknown impurity criterion')\n",
        "        \n",
        "    return(round(impurity, 3))\n",
        "\n",
        "\n",
        "# let's do two quick examples.\n",
        "print('impurity using entropy on age column:', compute_impurity(df['age'], 'entropy'))\n",
        "print('impurity using gini index on age column:', compute_impurity(df['age'], 'gini'))\n"
      ],
      "execution_count": null,
      "outputs": [
        {
          "output_type": "stream",
          "text": [
            "impurity using entropy on age column: 12.632\n",
            "impurity using gini index on age column: 1.0\n"
          ],
          "name": "stdout"
        }
      ]
    },
    {
      "cell_type": "code",
      "metadata": {
        "colab": {
          "base_uri": "https://localhost:8080/"
        },
        "id": "chB6e_I2V-hC",
        "outputId": "e9549023-c62e-4eaa-c0d2-230e4c6f225c"
      },
      "source": [
        "print('impurity using entropy on id column:', compute_impurity(df['id'], 'entropy'))\r\n",
        "print('impurity using gini index on id column:', compute_impurity(df['id'], 'gini'))"
      ],
      "execution_count": null,
      "outputs": [
        {
          "output_type": "stream",
          "text": [
            "impurity using entropy on id column: 16.095\n",
            "impurity using gini index on id column: 1.0\n"
          ],
          "name": "stdout"
        }
      ]
    },
    {
      "cell_type": "code",
      "metadata": {
        "id": "7V923LXQAyDh",
        "colab": {
          "base_uri": "https://localhost:8080/"
        },
        "outputId": "b2503d34-13fc-446b-d757-9347db4b1d8c"
      },
      "source": [
        "print('impurity using entropy on cholesterol column:', compute_impurity(df['cholesterol'], 'entropy'))\n",
        "print('impurity using gini index on cholesterol column:', compute_impurity(df['cholesterol'], 'gini'))"
      ],
      "execution_count": null,
      "outputs": [
        {
          "output_type": "stream",
          "text": [
            "impurity using entropy on cholesterol column: 1.064\n",
            "impurity using gini index on cholesterol column: 0.408\n"
          ],
          "name": "stdout"
        }
      ]
    },
    {
      "cell_type": "code",
      "metadata": {
        "id": "x89y-w8hAyDh",
        "outputId": "c3332117-c11a-47a4-a015-9ee892a02201"
      },
      "source": [
        "print('impurity using entropy on gender column:', compute_impurity(df['gender'], 'entropy'))\n",
        "print('impurity using gini index on gender column:', compute_impurity(df['gender'], 'gini'))"
      ],
      "execution_count": null,
      "outputs": [
        {
          "output_type": "stream",
          "text": [
            "impurity using entropy on gender column: 0.934\n",
            "impurity using gini index on gender column: 0.455\n"
          ],
          "name": "stdout"
        }
      ]
    },
    {
      "cell_type": "code",
      "metadata": {
        "id": "WsfBgFp7AyDi",
        "outputId": "14677e86-fee2-4316-8992-5bae5afc91a7"
      },
      "source": [
        "print('impurity using entropy on height column:', compute_impurity(df['height'], 'entropy'))\n",
        "print('impurity using gini index on height column:', compute_impurity(df['height'], 'gini'))"
      ],
      "execution_count": null,
      "outputs": [
        {
          "output_type": "stream",
          "text": [
            "impurity using entropy on height column: 4.931\n",
            "impurity using gini index on height column: 0.959\n"
          ],
          "name": "stdout"
        }
      ]
    },
    {
      "cell_type": "code",
      "metadata": {
        "id": "C6ThbCaWAyDj",
        "outputId": "9b782d2d-ac4b-40c8-ec97-32ae79350ed9"
      },
      "source": [
        "print('impurity using entropy on weight column:', compute_impurity(df['weight'], 'entropy'))\n",
        "print('impurity using gini index on weight column:', compute_impurity(df['weight'], 'gini'))"
      ],
      "execution_count": null,
      "outputs": [
        {
          "output_type": "stream",
          "text": [
            "impurity using entropy on weight column: 5.743\n",
            "impurity using gini index on weight column: 0.975\n"
          ],
          "name": "stdout"
        }
      ]
    },
    {
      "cell_type": "code",
      "metadata": {
        "id": "EliNevYLAyDk",
        "outputId": "a85b2688-2146-4d36-b5ca-f2bd2d5676f6"
      },
      "source": [
        "print('impurity using entropy on ap_hi column:', compute_impurity(df['ap_hi'], 'entropy'))\n",
        "print('impurity using gini index on ap_hi column:', compute_impurity(df['ap_hi'], 'gini'))"
      ],
      "execution_count": null,
      "outputs": [
        {
          "output_type": "stream",
          "text": [
            "impurity using entropy on ap_hi column: 2.907\n",
            "impurity using gini index on ap_hi column: 0.786\n"
          ],
          "name": "stdout"
        }
      ]
    },
    {
      "cell_type": "code",
      "metadata": {
        "id": "V5yW_lGYAyDl",
        "outputId": "09b8a879-3f75-4f70-b065-d8d5e548c717"
      },
      "source": [
        "print('impurity using entropy on ap_lo column:', compute_impurity(df['ap_lo'], 'entropy'))\n",
        "print('impurity using gini index on ap_lo column:', compute_impurity(df['ap_lo'], 'gini'))"
      ],
      "execution_count": null,
      "outputs": [
        {
          "output_type": "stream",
          "text": [
            "impurity using entropy on ap_lo column: 2.286\n",
            "impurity using gini index on ap_lo column: 0.684\n"
          ],
          "name": "stdout"
        }
      ]
    },
    {
      "cell_type": "code",
      "metadata": {
        "id": "DgXpHVhJAyDl",
        "outputId": "715922b6-7b0c-468e-8d03-4ec8463a87ca"
      },
      "source": [
        "print('impurity using entropy on gluc column:', compute_impurity(df['gluc'], 'entropy'))\n",
        "print('impurity using gini index on gluc column:', compute_impurity(df['gluc'], 'gini'))"
      ],
      "execution_count": null,
      "outputs": [
        {
          "output_type": "stream",
          "text": [
            "impurity using entropy on gluc column: 0.761\n",
            "impurity using gini index on gluc column: 0.267\n"
          ],
          "name": "stdout"
        }
      ]
    },
    {
      "cell_type": "code",
      "metadata": {
        "id": "tp8-IqqrAyDm",
        "outputId": "708cf3d4-d8a1-47ef-f94e-a276ed439c9b"
      },
      "source": [
        "print('impurity using entropy on smoke column:', compute_impurity(df['smoke'], 'entropy'))\n",
        "print('impurity using gini index on smoke column:', compute_impurity(df['smoke'], 'gini'))"
      ],
      "execution_count": null,
      "outputs": [
        {
          "output_type": "stream",
          "text": [
            "impurity using entropy on smoke column: 0.43\n",
            "impurity using gini index on smoke column: 0.161\n"
          ],
          "name": "stdout"
        }
      ]
    },
    {
      "cell_type": "code",
      "metadata": {
        "id": "mFPFN9ryAyDn",
        "outputId": "cf2c1be1-4ab1-4a15-ee36-0a745a828c06"
      },
      "source": [
        "print('impurity using entropy on alco column:', compute_impurity(df['alco'], 'entropy'))\n",
        "print('impurity using gini index on alco column:', compute_impurity(df['alco'], 'gini'))"
      ],
      "execution_count": null,
      "outputs": [
        {
          "output_type": "stream",
          "text": [
            "impurity using entropy on alco column: 0.302\n",
            "impurity using gini index on alco column: 0.102\n"
          ],
          "name": "stdout"
        }
      ]
    },
    {
      "cell_type": "code",
      "metadata": {
        "id": "YX9nm1XqAyDo",
        "outputId": "6b116365-de88-4c44-c6d3-278eed23f502"
      },
      "source": [
        "print('impurity using entropy on active column:', compute_impurity(df['active'], 'entropy'))\n",
        "print('impurity using gini index on active column:', compute_impurity(df['active'], 'gini'))"
      ],
      "execution_count": null,
      "outputs": [
        {
          "output_type": "stream",
          "text": [
            "impurity using entropy on active column: 0.714\n",
            "impurity using gini index on active column: 0.315\n"
          ],
          "name": "stdout"
        }
      ]
    },
    {
      "cell_type": "code",
      "metadata": {
        "id": "gJzCvqssAyDp",
        "outputId": "e926bf90-c4b8-4315-fcfe-490f13467499"
      },
      "source": [
        "print('impurity using entropy on cardio column:', compute_impurity(df['cardio'], 'entropy'))\n",
        "print('impurity using gini index on cardio column:', compute_impurity(df['cardio'], 'gini'))"
      ],
      "execution_count": null,
      "outputs": [
        {
          "output_type": "stream",
          "text": [
            "impurity using entropy on cardio column: 1.0\n",
            "impurity using gini index on cardio column: 0.5\n"
          ],
          "name": "stdout"
        }
      ]
    },
    {
      "cell_type": "markdown",
      "metadata": {
        "id": "B5Mqa74rAyDp"
      },
      "source": [
        "the column 'Alco' has the lowest impurity. 10 least impure attributes: gender, gluc, smoke, alco, active, cardio, cholesterol. worst 3: id, age, height, weight, ap_hi, ap_lo. We will take the 8 least impure attribute to measure accuracy once more."
      ]
    },
    {
      "cell_type": "code",
      "metadata": {
        "id": "ynzK2i8ZAyDq",
        "colab": {
          "base_uri": "https://localhost:8080/"
        },
        "outputId": "04eaa15d-4196-4652-8e9b-f238ab451d2c"
      },
      "source": [
        "df['alco'].value_counts()"
      ],
      "execution_count": null,
      "outputs": [
        {
          "output_type": "execute_result",
          "data": {
            "text/plain": [
              "0    66236\n",
              "1     3764\n",
              "Name: alco, dtype: int64"
            ]
          },
          "metadata": {
            "tags": []
          },
          "execution_count": 4
        }
      ]
    },
    {
      "cell_type": "markdown",
      "metadata": {
        "id": "1ywsAaGipmqd"
      },
      "source": [
        "**Droping 4 most impure features**"
      ]
    },
    {
      "cell_type": "code",
      "metadata": {
        "id": "AY1F9LeXAyDr",
        "colab": {
          "base_uri": "https://localhost:8080/",
          "height": 195
        },
        "outputId": "b6a25527-08bf-4a18-ed05-552a07a3b601"
      },
      "source": [
        "dt2 = df\n",
        "dt2 = dt2.drop(columns=['id', 'age', 'height', 'weight'])\n",
        "dt2.head()"
      ],
      "execution_count": null,
      "outputs": [
        {
          "output_type": "execute_result",
          "data": {
            "text/html": [
              "<div>\n",
              "<style scoped>\n",
              "    .dataframe tbody tr th:only-of-type {\n",
              "        vertical-align: middle;\n",
              "    }\n",
              "\n",
              "    .dataframe tbody tr th {\n",
              "        vertical-align: top;\n",
              "    }\n",
              "\n",
              "    .dataframe thead th {\n",
              "        text-align: right;\n",
              "    }\n",
              "</style>\n",
              "<table border=\"1\" class=\"dataframe\">\n",
              "  <thead>\n",
              "    <tr style=\"text-align: right;\">\n",
              "      <th></th>\n",
              "      <th>gender</th>\n",
              "      <th>ap_hi</th>\n",
              "      <th>ap_lo</th>\n",
              "      <th>cholesterol</th>\n",
              "      <th>gluc</th>\n",
              "      <th>smoke</th>\n",
              "      <th>alco</th>\n",
              "      <th>active</th>\n",
              "      <th>cardio</th>\n",
              "    </tr>\n",
              "  </thead>\n",
              "  <tbody>\n",
              "    <tr>\n",
              "      <th>0</th>\n",
              "      <td>2</td>\n",
              "      <td>110</td>\n",
              "      <td>80</td>\n",
              "      <td>1</td>\n",
              "      <td>1</td>\n",
              "      <td>0</td>\n",
              "      <td>0</td>\n",
              "      <td>1</td>\n",
              "      <td>0</td>\n",
              "    </tr>\n",
              "    <tr>\n",
              "      <th>1</th>\n",
              "      <td>1</td>\n",
              "      <td>140</td>\n",
              "      <td>90</td>\n",
              "      <td>3</td>\n",
              "      <td>1</td>\n",
              "      <td>0</td>\n",
              "      <td>0</td>\n",
              "      <td>1</td>\n",
              "      <td>1</td>\n",
              "    </tr>\n",
              "    <tr>\n",
              "      <th>2</th>\n",
              "      <td>1</td>\n",
              "      <td>130</td>\n",
              "      <td>70</td>\n",
              "      <td>3</td>\n",
              "      <td>1</td>\n",
              "      <td>0</td>\n",
              "      <td>0</td>\n",
              "      <td>0</td>\n",
              "      <td>1</td>\n",
              "    </tr>\n",
              "    <tr>\n",
              "      <th>3</th>\n",
              "      <td>2</td>\n",
              "      <td>150</td>\n",
              "      <td>100</td>\n",
              "      <td>1</td>\n",
              "      <td>1</td>\n",
              "      <td>0</td>\n",
              "      <td>0</td>\n",
              "      <td>1</td>\n",
              "      <td>1</td>\n",
              "    </tr>\n",
              "    <tr>\n",
              "      <th>4</th>\n",
              "      <td>1</td>\n",
              "      <td>100</td>\n",
              "      <td>60</td>\n",
              "      <td>1</td>\n",
              "      <td>1</td>\n",
              "      <td>0</td>\n",
              "      <td>0</td>\n",
              "      <td>0</td>\n",
              "      <td>0</td>\n",
              "    </tr>\n",
              "  </tbody>\n",
              "</table>\n",
              "</div>"
            ],
            "text/plain": [
              "   gender  ap_hi  ap_lo  cholesterol  gluc  smoke  alco  active  cardio\n",
              "0       2    110     80            1     1      0     0       1       0\n",
              "1       1    140     90            3     1      0     0       1       1\n",
              "2       1    130     70            3     1      0     0       0       1\n",
              "3       2    150    100            1     1      0     0       1       1\n",
              "4       1    100     60            1     1      0     0       0       0"
            ]
          },
          "metadata": {
            "tags": []
          },
          "execution_count": 5
        }
      ]
    },
    {
      "cell_type": "markdown",
      "metadata": {
        "id": "LzuOO2CWn7B-"
      },
      "source": [
        "**Spliting the data into feature data and target data**"
      ]
    },
    {
      "cell_type": "code",
      "metadata": {
        "id": "2n1YQjRaAyDs"
      },
      "source": [
        "X = dt2.iloc[:, :-1].values\n",
        "y = dt2.iloc[:, -1].values"
      ],
      "execution_count": null,
      "outputs": []
    },
    {
      "cell_type": "markdown",
      "metadata": {
        "id": "5oIrB76QoDs7"
      },
      "source": [
        "**Spliting the data, into 75% training data and 25% testing data set**"
      ]
    },
    {
      "cell_type": "code",
      "metadata": {
        "id": "5XgSm9DQAyDs"
      },
      "source": [
        "from sklearn.model_selection import train_test_split\n",
        "X_train, X_test, y_train, y_test= train_test_split(X, y, test_size=0.25, random_state = 1)"
      ],
      "execution_count": null,
      "outputs": []
    },
    {
      "cell_type": "markdown",
      "metadata": {
        "id": "9r9SnVHtpBfR"
      },
      "source": [
        "Now here we will be using a machine learning algorithm (Random Forest Classifier)"
      ]
    },
    {
      "cell_type": "code",
      "metadata": {
        "id": "wSbOBR0NAyDt",
        "colab": {
          "base_uri": "https://localhost:8080/"
        },
        "outputId": "e7b6f994-262e-4937-a580-d04144011274"
      },
      "source": [
        "from sklearn.ensemble import RandomForestClassifier\n",
        "forest = RandomForestClassifier(n_estimators = 10, criterion = 'entropy', random_state=1)\n",
        "forest.fit(X_train, y_train)"
      ],
      "execution_count": null,
      "outputs": [
        {
          "output_type": "execute_result",
          "data": {
            "text/plain": [
              "RandomForestClassifier(bootstrap=True, ccp_alpha=0.0, class_weight=None,\n",
              "                       criterion='entropy', max_depth=None, max_features='auto',\n",
              "                       max_leaf_nodes=None, max_samples=None,\n",
              "                       min_impurity_decrease=0.0, min_impurity_split=None,\n",
              "                       min_samples_leaf=1, min_samples_split=2,\n",
              "                       min_weight_fraction_leaf=0.0, n_estimators=10,\n",
              "                       n_jobs=None, oob_score=False, random_state=1, verbose=0,\n",
              "                       warm_start=False)"
            ]
          },
          "metadata": {
            "tags": []
          },
          "execution_count": 9
        }
      ]
    },
    {
      "cell_type": "markdown",
      "metadata": {
        "id": "XU466NOLonRH"
      },
      "source": [
        "**Test the models accuracy on the training data set**"
      ]
    },
    {
      "cell_type": "code",
      "metadata": {
        "id": "HQ4HLvvSAyDt",
        "colab": {
          "base_uri": "https://localhost:8080/"
        },
        "outputId": "dc6ae2dd-d614-48d0-c19e-d65f6140a245"
      },
      "source": [
        "classifiers=[]\n",
        "accuracies=[]\n",
        "trainAcc=[]\n",
        "model = forest\n",
        "trainAcc.append(model.score(X_train, y_train))\n",
        "model.score(X_train, y_train)"
      ],
      "execution_count": null,
      "outputs": [
        {
          "output_type": "execute_result",
          "data": {
            "text/plain": [
              "0.7450666666666667"
            ]
          },
          "metadata": {
            "tags": []
          },
          "execution_count": 10
        }
      ]
    },
    {
      "cell_type": "markdown",
      "metadata": {
        "id": "_5UeJoVspIP9"
      },
      "source": [
        "*Accuracy for the model's training dataset 74.50%*"
      ]
    },
    {
      "cell_type": "markdown",
      "metadata": {
        "id": "4vOPumuLotwq"
      },
      "source": [
        "**Test the models accuracy on the test data set**"
      ]
    },
    {
      "cell_type": "code",
      "metadata": {
        "id": "53B9LlObAyDu"
      },
      "source": [
        "from sklearn.metrics import confusion_matrix\n",
        "from sklearn.metrics import  accuracy_score"
      ],
      "execution_count": null,
      "outputs": []
    },
    {
      "cell_type": "code",
      "metadata": {
        "id": "C_Ob6-2eAyDu",
        "colab": {
          "base_uri": "https://localhost:8080/"
        },
        "outputId": "9122e35d-bb84-42e5-976e-9fb3226f0eb3"
      },
      "source": [
        "predictions = model.predict(X_test)\n",
        "print(len(predictions),len(y_test))\n",
        "score = accuracy_score(y_test , predictions)\n",
        "print(score)\n",
        "classifiers.append('Random Forest')\n",
        "accuracies.append(score)"
      ],
      "execution_count": null,
      "outputs": [
        {
          "output_type": "stream",
          "text": [
            "17500 17500\n",
            "0.7216\n"
          ],
          "name": "stdout"
        }
      ]
    },
    {
      "cell_type": "markdown",
      "metadata": {
        "id": "D1yAXXjkvDyh"
      },
      "source": [
        "*Accuracy for the model's test dataset 72%*"
      ]
    },
    {
      "cell_type": "code",
      "metadata": {
        "colab": {
          "base_uri": "https://localhost:8080/"
        },
        "id": "bRFjYRVu19is",
        "outputId": "5b2e8b6f-824f-4272-af34-4ea9e42e18e6"
      },
      "source": [
        "from sklearn.neighbors import KNeighborsClassifier\r\n",
        "knn = KNeighborsClassifier(n_neighbors=5)\r\n",
        "knn.fit(X_train, y_train)\r\n",
        "trainAcc.append(knn.score(X_train, y_train))\r\n",
        "knn.score(X_train, y_train)"
      ],
      "execution_count": null,
      "outputs": [
        {
          "output_type": "execute_result",
          "data": {
            "text/plain": [
              "0.7160190476190477"
            ]
          },
          "metadata": {
            "tags": []
          },
          "execution_count": 60
        }
      ]
    },
    {
      "cell_type": "markdown",
      "metadata": {
        "id": "ctlfdvNd2Sbd"
      },
      "source": [
        "*Accuracy for the model's training dataset 71%*\r\n",
        "\r\n"
      ]
    },
    {
      "cell_type": "code",
      "metadata": {
        "colab": {
          "base_uri": "https://localhost:8080/"
        },
        "id": "yE4KUofx2Ing",
        "outputId": "d9319922-923e-4f33-bc73-711b8635fdbe"
      },
      "source": [
        "from sklearn.metrics import confusion_matrix\r\n",
        "from sklearn.metrics import  accuracy_score\r\n",
        "knn_prediction = knn.predict(X_test)\r\n",
        "print(len(knn_prediction), len(y_test))\r\n",
        "knn_score=accuracy_score(y_test,knn_prediction)\r\n",
        "print(knn_score)\r\n",
        "classifiers.append('KNN')\r\n",
        "accuracies.append(knn_score)"
      ],
      "execution_count": null,
      "outputs": [
        {
          "output_type": "stream",
          "text": [
            "17500 17500\n",
            "0.7072\n"
          ],
          "name": "stdout"
        }
      ]
    },
    {
      "cell_type": "markdown",
      "metadata": {
        "id": "_FgxyO-82sZH"
      },
      "source": [
        "*Accuracy for the model's test dataset 70%*"
      ]
    }
  ]
}